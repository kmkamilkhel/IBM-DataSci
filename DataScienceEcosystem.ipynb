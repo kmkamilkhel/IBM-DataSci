{
 "cells": [
  {
   "cell_type": "markdown",
   "id": "779cf23b-515b-4a2d-8be5-ceaaf788fe7d",
   "metadata": {},
   "source": [
    "# Data Science Tools and Ecosystem"
   ]
  },
  {
   "cell_type": "markdown",
   "id": "4739cd9d-3520-45d6-a7ba-7d2ae25c8ac2",
   "metadata": {},
   "source": [
    "In this notebook, Data Science Tools and Ecosystem are summarized."
   ]
  },
  {
   "cell_type": "markdown",
   "id": "d52208ad-132a-4d6d-b4c0-c2e082c1ca50",
   "metadata": {},
   "source": [
    "Some of the popular languages that Data Scientists use are:\n",
    "1. Python\n",
    "2. R Programmining\n",
    "3. Julia"
   ]
  },
  {
   "cell_type": "markdown",
   "id": "16a0a604-c84e-4ece-80bf-a0dfeeece00e",
   "metadata": {},
   "source": [
    "Some of the commonly used libraries used by Data Scientists include:\n",
    "1. Numpy\n",
    "2. Pandas\n",
    "3. Sklearn\n",
    "4. Tensor flow\n"
   ]
  },
  {
   "cell_type": "markdown",
   "id": "f5b3455f-8c36-42fb-899e-cb1165d4a5f9",
   "metadata": {},
   "source": [
    "| Data Science Tools |\n",
    "| -------------------|\n",
    "| VS Code |\n",
    "| R Studio |\n",
    "| IBM Cloud Studio |\n",
    "| Spyder |"
   ]
  },
  {
   "cell_type": "markdown",
   "id": "ba5cee43-654a-4b0f-9d70-1aab63827405",
   "metadata": {},
   "source": [
    "### Below are a few examples of evaluating arithmetic expressions in Python"
   ]
  },
  {
   "cell_type": "code",
   "execution_count": 2,
   "id": "6927c12e-ab58-4ba2-8b13-a1865c37ee62",
   "metadata": {},
   "outputs": [
    {
     "data": {
      "text/plain": [
       "17"
      ]
     },
     "execution_count": 2,
     "metadata": {},
     "output_type": "execute_result"
    }
   ],
   "source": [
    "# This a simple arithmetic expression to mutiply then add integers\n",
    "(3*4)+5"
   ]
  },
  {
   "cell_type": "code",
   "execution_count": 3,
   "id": "f290309f-46f6-40f5-bd10-e7f46e7cf8ff",
   "metadata": {},
   "outputs": [
    {
     "data": {
      "text/plain": [
       "3.3333333333333335"
      ]
     },
     "execution_count": 3,
     "metadata": {},
     "output_type": "execute_result"
    }
   ],
   "source": [
    "# This will convert 200 minutes to hours by diving by 60\n",
    "200/60"
   ]
  },
  {
   "cell_type": "markdown",
   "id": "e68413eb-8475-4ab3-99d4-1d6c6e629e15",
   "metadata": {},
   "source": [
    "**Objectives:**\n",
    "* libraries used by Data Scientists\n",
    "* Arthimatic expressions in Python\n",
    "* List popular languages for Data Science"
   ]
  },
  {
   "cell_type": "markdown",
   "id": "da1c1eb7-1583-4973-a489-9f48228858aa",
   "metadata": {},
   "source": [
    "## Author\n",
    "Kaleem Mehmood"
   ]
  },
  {
   "cell_type": "code",
   "execution_count": null,
   "id": "57d2e83f-bebf-48aa-a200-cb8895448b15",
   "metadata": {},
   "outputs": [],
   "source": []
  }
 ],
 "metadata": {
  "kernelspec": {
   "display_name": "Python",
   "language": "python",
   "name": "conda-env-python-py"
  },
  "language_info": {
   "codemirror_mode": {
    "name": "ipython",
    "version": 3
   },
   "file_extension": ".py",
   "mimetype": "text/x-python",
   "name": "python",
   "nbconvert_exporter": "python",
   "pygments_lexer": "ipython3",
   "version": "3.7.12"
  }
 },
 "nbformat": 4,
 "nbformat_minor": 5
}
